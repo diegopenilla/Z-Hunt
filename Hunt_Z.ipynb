{
 "cells": [
  {
   "cell_type": "code",
   "execution_count": 1,
   "metadata": {
    "collapsed": true
   },
   "outputs": [],
   "source": [
    "import warnings\n",
    "warnings.filterwarnings('ignore')"
   ]
  },
  {
   "cell_type": "code",
   "execution_count": 42,
   "metadata": {
    "collapsed": true
   },
   "outputs": [],
   "source": [
    "%run CallFinal.ipynb"
   ]
  },
  {
   "cell_type": "markdown",
   "metadata": {},
   "source": [
    "## Creating Buttons for GUI\n",
    "\n",
    "Need to find the proper widgets. ipywidgets and the VBox, HBox()\n",
    "- I had previously a window for initializing the program above. \n",
    "- I had two windows for making plots and one for displaying a table\n",
    "- Implementing the scatter plot to see what is the nature of the output \n",
    "- Apply a machine learning model using classifier to say wether DNA is *Z* conformation or *other*"
   ]
  },
  {
   "cell_type": "code",
   "execution_count": 3,
   "metadata": {
    "collapsed": true
   },
   "outputs": [],
   "source": [
    "import ipywidgets as widgets\n",
    "from ipywidgets import HBox, VBox\n",
    "from IPython.display import HTML, display\n",
    "import matplotlib.pyplot as plt\n",
    "from IPython.display import clear_output\n",
    "import re\n",
    "import os\n",
    "%matplotlib inline \n"
   ]
  },
  {
   "cell_type": "code",
   "execution_count": 4,
   "metadata": {
    "collapsed": true
   },
   "outputs": [],
   "source": [
    "import plotly\n",
    "plotly.tools.set_credentials_file(username='Chipichapes', api_key='L6ti8JP4PGxm4gkOqizP')"
   ]
  },
  {
   "cell_type": "markdown",
   "metadata": {},
   "source": [
    "# Making tabs\n",
    "\n",
    "Create a tab either using VBox or Hbox. Where you define the buttons to be displayed"
   ]
  },
  {
   "cell_type": "markdown",
   "metadata": {},
   "source": [
    "# Displaying a Table and Simple Plot\n",
    "\n",
    "- Now I need to do a more complex plot with hovering options. Where the values to hover translate from index to DNA[index] so that one reads the current sequence.\n",
    "\n",
    "- Displaying the fragments for extremely long sequences takes up too much resources so No!\n",
    "\n",
    "- Displaying the 10 Highest results\n",
    "\n",
    "- Search for a sequence\n",
    "\n",
    "- Mechanize window \n",
    "\n",
    "- Interactive Plot + Plot for Publishing\n",
    "\n",
    "- Host it in Binder using GitHub account so that it can be accesed by the internet.\n"
   ]
  },
  {
   "cell_type": "markdown",
   "metadata": {},
   "source": [
    "###  Accesing the DNA by the index column"
   ]
  },
  {
   "cell_type": "markdown",
   "metadata": {},
   "source": [
    "Z-Hunt II appears to compute incorrectly the column $Conformation$. The last nucleotide at the  3'terminus of the DNA, has a 'conformation' of not one but several bases. As seen below the last nucleotides has a conformation 'ASASASASASASASAS'."
   ]
  },
  {
   "cell_type": "markdown",
   "metadata": {},
   "source": [
    "To correct that the length of the conformation has to be limited by the length of DNA."
   ]
  },
  {
   "cell_type": "markdown",
   "metadata": {},
   "source": [
    "## Buttons\n",
    "### Table and Top 10"
   ]
  },
  {
   "cell_type": "code",
   "execution_count": 5,
   "metadata": {
    "collapsed": true
   },
   "outputs": [],
   "source": [
    "buttontable = widgets.Button(description='Display Table')\n",
    "outtable = widgets.Output()\n",
    "def on_buttontable_clicked(b):\n",
    "    with outtable:\n",
    "        clear_output()\n",
    "        display(data)\n",
    "buttontable.on_click(on_buttontable_clicked)"
   ]
  },
  {
   "cell_type": "code",
   "execution_count": 47,
   "metadata": {
    "collapsed": true
   },
   "outputs": [],
   "source": [
    "# Displaying the DNA SEQUENCE FOR MILLIONS OF BASES takes up too much resources to solve it. Slider to select max or min. Mean\n",
    "buttonlargest = widgets.Button(description='Display Top')\n",
    "outlargest = widgets.Output()\n",
    "def on_buttonlargest_clicked(b):\n",
    "    with outlargest:\n",
    "        global largest, top_results\n",
    "        clear_output()\n",
    "        top_results = int(text5.value)\n",
    "        largest = data.nlargest(top_results, 'Z-Score') # This could be later put into a button for easy access. \n",
    "        columns = ['Unclear1', 'Unclear2']\n",
    "        largest.drop(columns, inplace=True, axis=1)\n",
    "        pre = []\n",
    "        for i in largest.index:\n",
    "            pre.append(DNA[i:i+10])\n",
    "        largest['Sequence'] = pre\n",
    "        prei = []\n",
    "        for index, element in enumerate(list(largest['Conformation'])):\n",
    "            prei.append(element[0:len(list(largest['Sequence'])[index])])\n",
    "        largest['Conformation'] = prei\n",
    "        %run Session.ipynb\n",
    "buttonlargest.on_click(on_buttonlargest_clicked)"
   ]
  },
  {
   "cell_type": "markdown",
   "metadata": {},
   "source": [
    "### Simple and interactive plot"
   ]
  },
  {
   "cell_type": "code",
   "execution_count": 7,
   "metadata": {
    "collapsed": true
   },
   "outputs": [],
   "source": [
    "buttonplot = widgets.Button(description='Display Plot')\n",
    "outplot = widgets.Output()\n",
    "def on_buttonplot_clicked(b):\n",
    "    with outplot:\n",
    "        clear_output()\n",
    "        plt.style.use('default')\n",
    "        plt.figure(figsize = (8,8))\n",
    "        indexes = [i for i in range(len(y))] # ! change it for df abstraction\n",
    "        plt.xlabel(r\"Position in DNA\")\n",
    "        plt.ylabel(r\"Z-Score [kb]\")\n",
    "        p = plt.plot(indexes, y)\n",
    "        plt.show(p)\n",
    "        \n",
    "\n",
    "buttonplot.on_click(on_buttonplot_clicked)"
   ]
  },
  {
   "cell_type": "code",
   "execution_count": 8,
   "metadata": {
    "collapsed": true
   },
   "outputs": [],
   "source": [
    "buttonsession = widgets.Button(description='Display Plot')\n",
    "outsession = widgets.Output()\n",
    "def on_buttonsession_clicked(b):\n",
    "    with outsession:\n",
    "        clear_output()\n",
    "        plt.style.use('default')\n",
    "        plt.figure(figsize = (8,8))\n",
    "        indexes = [i for i in range(len(y))] # ! change it for df abstraction\n",
    "        plt.xlabel(r\"Position in DNA\")\n",
    "        plt.ylabel(r\"Z-Score [kb]\")\n",
    "        p = plt.plot(indexes, y)\n",
    "        plt.show(p)\n",
    "        \n",
    "\n",
    "buttonsession.on_click(on_buttonsession_clicked)"
   ]
  },
  {
   "cell_type": "code",
   "execution_count": 9,
   "metadata": {
    "collapsed": true
   },
   "outputs": [],
   "source": [
    "buttonsession = widgets.Button(description='Display Plot')\n",
    "outsession = widgets.Output()\n",
    "def on_buttonsession_clicked(b):\n",
    "    with outsession:\n",
    "        clear_output()\n",
    "        import plotly.plotly as py\n",
    "        import plotly.graph_objs as go\n",
    "        \n",
    "        # Create random data with numpy\n",
    "        import numpy as np\n",
    "        \n",
    "        secuencias = []\n",
    "        datos = []\n",
    "        search_window_big = []\n",
    "        search_window = []\n",
    "        \n",
    "        \n",
    "        for DNA in list(session_df['Sequence']):\n",
    "            for index, element in enumerate(DNA):\n",
    "                search_window.append(DNA[index:index+int(windowsize)])\n",
    "            search_window_big.append(search_window)\n",
    "            \n",
    "        for x, y, name, DNA in zip( list(session_df['Indexes']), list(session_df['Scores']), list(session_df['Names']), list(session_df['Sequence'])):\n",
    "            datos.append(go.Scattergl(x= x, y=y, mode='lines+markers', name = name))\n",
    "            \n",
    "                         \n",
    "        \n",
    "            \n",
    "        layout = dict(title = 'Computed Sequences',\n",
    "                      xaxis = dict(title = 'Position in DNA'),\n",
    "                      yaxis = dict(title = 'Z-Score [kb]'),\n",
    "                      width=1000,\n",
    "                    height=500\n",
    "                      )\n",
    "        \n",
    "        fig = dict(data=datos, layout=layout)\n",
    "        display(py.iplot(fig, filename='styled-line'))\n",
    "                \n",
    "      \n",
    "        \n",
    "\n",
    "buttonsession.on_click(on_buttonsession_clicked)"
   ]
  },
  {
   "cell_type": "code",
   "execution_count": 10,
   "metadata": {
    "collapsed": true
   },
   "outputs": [],
   "source": [
    "buttonsession2 = widgets.Button(description='Display Plot')\n",
    "outsession2 = widgets.Output()\n",
    "def on_buttonsession2_clicked(b):\n",
    "    with outsession2:\n",
    "        clear_output()\n",
    "        \n",
    "        import matplotlib.pyplot as plt\n",
    "        import numpy as np\n",
    "        legends = []\n",
    "        plt.style.use('seaborn-white')\n",
    "        plt.figure(figsize=(12,5))\n",
    "        plt.xlabel('Position')\n",
    "        plt.ylabel('Z-Score')\n",
    "        plt.title('Computed Sequences')\n",
    "        for x, y, name in zip( list(session_df['Indexes']), list(session_df['Scores']), list(session_df['Names'])):\n",
    "            plt.plot(x,y, label = name)\n",
    "                \n",
    "        plt.legend(loc = 'upper right')\n",
    "        \n",
    "        plt.show()\n",
    "                        \n",
    "      \n",
    "        \n",
    "\n",
    "buttonsession2.on_click(on_buttonsession2_clicked)"
   ]
  },
  {
   "cell_type": "markdown",
   "metadata": {},
   "source": [
    "### Basic Statistics"
   ]
  },
  {
   "cell_type": "code",
   "execution_count": 11,
   "metadata": {
    "collapsed": true
   },
   "outputs": [],
   "source": [
    "# pandas.describe table in html. 'Removed \\n and it worked out' xD\n",
    "buttonstat = widgets.Button(description='Display Statistics')\n",
    "outstat = widgets.Output()\n",
    "def on_buttonstat_clicked(b):\n",
    "    with outstat:\n",
    "        clear_output()\n",
    "        html_table = DataFrame.to_html(data.describe().round(2))\n",
    "        delete_n = html_table.replace('\\n','')\n",
    "        html_code = '''%s''' %delete_n\n",
    "        display(HTML(html_code))\n",
    "\n",
    "buttonstat.on_click(on_buttonstat_clicked)\n"
   ]
  },
  {
   "cell_type": "code",
   "execution_count": 12,
   "metadata": {
    "collapsed": true
   },
   "outputs": [],
   "source": [
    "buttonscat = widgets.Button(description='Scatter Matrix')\n",
    "outscat = widgets.Output()\n",
    "def on_buttonscat_clicked(b):\n",
    "    with outscat:\n",
    "        clear_output()\n",
    "        plt.style.use('ggplot')\n",
    "        pd.plotting.scatter_matrix(data, figsize = [10,10], s = 80, marker = 'D')\n",
    "        plt.show()\n",
    "buttonscat.on_click(on_buttonscat_clicked)"
   ]
  },
  {
   "cell_type": "code",
   "execution_count": 13,
   "metadata": {
    "collapsed": true
   },
   "outputs": [],
   "source": [
    "buttonsearch = widgets.Button(description='Ocurrences in DNA')\n",
    "outsearch = widgets.Output()\n",
    "def on_buttonsearch_clicked(b):\n",
    "    with outsearch:\n",
    "        os.system('clear')\n",
    "        for match in re.finditer(in_dna, DNA):\n",
    "            print (match.start(), match.end())\n",
    "       \n",
    "\n",
    "buttonsearch.on_click(on_buttonsearch_clicked)"
   ]
  },
  {
   "cell_type": "code",
   "execution_count": 14,
   "metadata": {
    "collapsed": true
   },
   "outputs": [],
   "source": [
    "buttonprinter = widgets.Button(description='See DNA in window')\n",
    "outprinter = widgets.Output()\n",
    "def on_buttonprinter_clicked(b):\n",
    "    with outprinter:\n",
    "        clear_output()\n",
    "        @widgets.interact\n",
    "        def f(Position=(0,len(DNA)-1)):\n",
    "            print('Sequence:', DNA[Position:Position+int(windowsize)])\n",
    "            print('Z-Score:',data['Z-Score'][Position+1])\n",
    "        \n",
    "buttonprinter.on_click(on_buttonprinter_clicked)"
   ]
  },
  {
   "cell_type": "markdown",
   "metadata": {},
   "source": [
    "## Layout"
   ]
  },
  {
   "cell_type": "code",
   "execution_count": 48,
   "metadata": {},
   "outputs": [
    {
     "data": {
      "application/vnd.jupyter.widget-view+json": {
       "model_id": "cd6978f1e2cc497ca7eb4077593947e2",
       "version_major": 2,
       "version_minor": 0
      },
      "text/plain": [
       "VBox(children=(Tab(children=(VBox(children=(Textarea(value='', description='Sequence:', placeholder='Paste DNA…"
      ]
     },
     "metadata": {},
     "output_type": "display_data"
    }
   ],
   "source": [
    "accordion = widgets.Accordion(children=[widgets.VBox([buttontable,outtable]), \n",
    "                                      widgets.VBox([text5, buttonlargest,outlargest]),\n",
    "                                       widgets.VBox([buttonprinter, outprinter])])\n",
    "accordion.set_title(0, 'Results')\n",
    "accordion.set_title(1, 'Top 10')\n",
    "accordion.set_title(2, 'Search in DNA')\n",
    "\n",
    "accordioni = widgets.Accordion(children=[widgets.VBox([buttonstat,outstat]), \n",
    "                                         widgets.VBox([buttonscat,outscat]), \n",
    "                                         widgets.VBox([buttonsession,outsession]), \n",
    "                                         widgets.VBox([buttonsession2,outsession2])])\n",
    "accordioni.set_title(0, 'Statistics')\n",
    "accordioni.set_title(1, 'Scatter Matrix')\n",
    "accordioni.set_title(2, 'Interactive Comparison')\n",
    "accordioni.set_title(3, 'Comparison')\n",
    "accordioni.set_title(4, 'Find in DNA')\n",
    "\n",
    "\n",
    "\n",
    "tab1 = VBox(children=[text, buttonsubmit, text1, text2, text3, text4, button])\n",
    "tab2 = VBox(children= [accordion])                       \n",
    "tab3 = VBox(children = [buttonplot,outplot])\n",
    "tab4 = HBox(children = [accordioni])\n",
    "\n",
    "tab = widgets.Tab(children=[tab1, tab2,tab3,tab4])\n",
    "tab.set_title(0, 'Z-Hunt II')\n",
    "tab.set_title(1, 'Results')\n",
    "tab.set_title(2, 'Plot')\n",
    "tab.set_title(3, 'Data Analysis')\n",
    "\n",
    "display(VBox(children=[tab]))"
   ]
  },
  {
   "cell_type": "code",
   "execution_count": 50,
   "metadata": {},
   "outputs": [
    {
     "data": {
      "text/plain": [
       "524288"
      ]
     },
     "execution_count": 50,
     "metadata": {},
     "output_type": "execute_result"
    }
   ],
   "source": [
    "len(DNA)"
   ]
  },
  {
   "cell_type": "markdown",
   "metadata": {},
   "source": [
    "# Create a function that allows only one of the outs of the tab to exist! \n"
   ]
  },
  {
   "cell_type": "markdown",
   "metadata": {},
   "source": [
    "# To Do\n",
    "\n",
    "- Tab for searching a sequence.\n",
    "- Perhaps accordion would be more elegant.\n",
    "- def a function that allows only one of the outs of the tab to exist! \n",
    "- Mechanize windowtab and see if it works\n"
   ]
  },
  {
   "cell_type": "markdown",
   "metadata": {},
   "source": [
    "A notebook as example and tutorial about the meaning of the results"
   ]
  },
  {
   "cell_type": "markdown",
   "metadata": {},
   "source": [
    "SHORT TUTORIAL\n"
   ]
  }
 ],
 "metadata": {
  "kernelspec": {
   "display_name": "Python 3",
   "language": "python",
   "name": "python3"
  },
  "language_info": {
   "codemirror_mode": {
    "name": "ipython",
    "version": 3
   },
   "file_extension": ".py",
   "mimetype": "text/x-python",
   "name": "python",
   "nbconvert_exporter": "python",
   "pygments_lexer": "ipython3",
   "version": "3.6.1"
  },
  "toc": {
   "base_numbering": 1,
   "nav_menu": {},
   "number_sections": false,
   "sideBar": false,
   "skip_h1_title": false,
   "title_cell": "Table of Contents",
   "title_sidebar": "Contents",
   "toc_cell": false,
   "toc_position": {},
   "toc_section_display": false,
   "toc_window_display": false
  }
 },
 "nbformat": 4,
 "nbformat_minor": 2
}
