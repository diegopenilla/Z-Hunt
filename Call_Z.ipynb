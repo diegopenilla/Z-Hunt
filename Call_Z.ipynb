{
 "cells": [
  {
   "cell_type": "code",
   "execution_count": 260,
   "metadata": {},
   "outputs": [
    {
     "data": {
      "application/vnd.jupyter.widget-view+json": {
       "model_id": "c60054a68b854f5b906104a17471c13a",
       "version_major": 2,
       "version_minor": 0
      },
      "text/plain": [
       "Text(value='', description='Sequence:', placeholder='Paste DNA')"
      ]
     },
     "metadata": {},
     "output_type": "display_data"
    },
    {
     "data": {
      "application/vnd.jupyter.widget-view+json": {
       "model_id": "2efe0f7b9978451db558f91c0813d1d1",
       "version_major": 2,
       "version_minor": 0
      },
      "text/plain": [
       "Text(value='8', description='Windowsize:', placeholder='Unclear Argument')"
      ]
     },
     "metadata": {},
     "output_type": "display_data"
    },
    {
     "data": {
      "application/vnd.jupyter.widget-view+json": {
       "model_id": "3e2e2a4ae324428ca91f28c2508838ce",
       "version_major": 2,
       "version_minor": 0
      },
      "text/plain": [
       "Text(value='6', description='Minsize:', placeholder='Minimum length of stretches')"
      ]
     },
     "metadata": {},
     "output_type": "display_data"
    },
    {
     "data": {
      "application/vnd.jupyter.widget-view+json": {
       "model_id": "ae604b6379cd4c2eac5a74d50778ca6b",
       "version_major": 2,
       "version_minor": 0
      },
      "text/plain": [
       "Text(value='8', description='Maxsize:', placeholder='Maximum length of stretches')"
      ]
     },
     "metadata": {},
     "output_type": "display_data"
    },
    {
     "data": {
      "application/vnd.jupyter.widget-view+json": {
       "model_id": "4637acfa0cb34c0d84c874be1f5d9fc2",
       "version_major": 2,
       "version_minor": 0
      },
      "text/plain": [
       "Text(value='FileName', description='Name:', placeholder='Filename of output txt.file')"
      ]
     },
     "metadata": {},
     "output_type": "display_data"
    },
    {
     "data": {
      "application/vnd.jupyter.widget-view+json": {
       "model_id": "320c3015ed6649178456a24984ead666",
       "version_major": 2,
       "version_minor": 0
      },
      "text/plain": [
       "Button(description='Calculate...', style=ButtonStyle())"
      ]
     },
     "metadata": {},
     "output_type": "display_data"
    }
   ],
   "source": [
    "from IPython.display import HTML# Wrapping all of this into a cell \n",
    "import pandas as pd\n",
    "import ipywidgets as widgets\n",
    "from beakerx import *\n",
    "from IPython.display import display\n",
    "import numpy as np\n",
    "import matplotlib.pyplot as plt\n",
    "import subprocess\n",
    "\n",
    "DNA = ''\n",
    "session_df = pd.DataFrame()\n",
    "sessionsequence = []\n",
    "sessionname= []\n",
    "sessionindexes = []\n",
    "sessiony = []\n",
    "session = {}\n",
    "\n",
    "indices = []\n",
    "empty_notes = ''\n",
    "windowsize = ''\n",
    "minsize = ''\n",
    "maxsize = ''\n",
    "nombre = ''\n",
    "filename = ''\n",
    "outputext=''\n",
    "data = pd.DataFrame()\n",
    "\n",
    "text = widgets.Text(\n",
    "    value='',\n",
    "    placeholder='Paste DNA',\n",
    "    description='Sequence:',\n",
    "    disabled=False)\n",
    "text1 = widgets.Text(\n",
    "    value='8',\n",
    "    placeholder='Unclear Argument',\n",
    "    description='Windowsize:',\n",
    "    disabled=False)\n",
    "text2 = widgets.Text(\n",
    "    value='6',\n",
    "    placeholder='Minimum length of stretches',\n",
    "    description='Minsize:',\n",
    "    disabled=False)\n",
    "text3 = widgets.Text(\n",
    "    value='8',\n",
    "    placeholder='Maximum length of stretches',\n",
    "    description='Maxsize:',\n",
    "    disabled=False)\n",
    "text4 = widgets.Text(\n",
    "    value='FileName',\n",
    "    placeholder='Filename of output txt.file',\n",
    "    description='Name:',\n",
    "    disabled=False)\n",
    "\n",
    "def handle_submit(sender):\n",
    "    global empty_notes\n",
    "    global DNA, windowsize, minsize, maxsize, nombre\n",
    "    DNA = text.value\n",
    "    windowsize = text1.value\n",
    "    minsize = text2.value\n",
    "    maxsize = text3.value\n",
    "    nombre = text4.value\n",
    "    \n",
    "\n",
    "# Here one could put a filter to verify that the right values for the arguments are given. \n",
    "\n",
    "\n",
    "\n",
    "# SOLU FUNCIONA SI SE ENVIA OSEA SI SE UNDE ENTER.\n",
    "text.on_submit(handle_submit)\n",
    "text1.on_submit(handle_submit)\n",
    "text2.on_submit(handle_submit)\n",
    "text3.on_submit(handle_submit)\n",
    "text4.on_submit(handle_submit)\n",
    "\n",
    "\n",
    "import ipywidgets as widgets\n",
    "button = widgets.Button(description='Calculate...')\n",
    "out1 = widgets.Output()\n",
    "def on_button_clicked(b):\n",
    "    global sessiony\n",
    "    global session\n",
    "    global session_df\n",
    "    global sessionname\n",
    "    global sessionsequence\n",
    "    global sessionindexes\n",
    "    global y\n",
    "    global data\n",
    "    global filename\n",
    "    global outputext\n",
    "    from IPython.display import display\n",
    "    button.description = 'clicked'\n",
    "    with out1: # Some filter\n",
    "        if nombre != '' or DNA != '' or windowsize != '' or minsize != '' or maxsize != '':\n",
    "            print('Ok')\n",
    "            filename = nombre +'.txt'\n",
    "            outputext = filename + '.Z-SCORE'\n",
    "            f= open(filename,\"w+\")\n",
    "            f.write(DNA)\n",
    "            f.close() \n",
    "            # Defino los argumentos de z-hunt:\n",
    "            z_hunt_arguments = [\"./zhunt2\", windowsize, minsize, maxsize, filename]\n",
    "            #Execute zhunt with the arguments windowsize, minsize, maxsize and datafile...\n",
    "            out = subprocess.check_output(z_hunt_arguments)\n",
    "            \n",
    "            \n",
    "            data = pd.read_csv(outputext, names=['Unclear1','Unclear2','Z-Score','Conformation'], skiprows=1, sep='\\s+')\n",
    "            # Extracting Z-Scores\n",
    "            y = list(np.array(data['Z-Score'])/1000) # Z-Scores in kb\n",
    "            data['Z-Score'] = y # Replacing the column Z-Scores from data to y\n",
    "            data.index = np.arange(1, len(data) + 1)\n",
    "            indexes = [i for i in range(len(y))]\n",
    "            \n",
    "            sessionsequence.append(DNA)\n",
    "            sessionindexes.append(indexes)\n",
    "            sessiony.append(y)\n",
    "            sessionname.append(str(filename))\n",
    "            \n",
    "            session = {'Indexes': sessionindexes, 'Scores': sessiony, 'Sequence': sessionsequence, 'Names': sessionname}\n",
    "            session_df = pd.DataFrame(data=session)\n",
    "\n",
    "button.on_click(on_button_clicked)\n",
    "widgets.VBox([button, out1])\n",
    "display(text,text1,text2,text3,text4,button)\n",
    "\n"
   ]
  },
  {
   "cell_type": "code",
   "execution_count": 261,
   "metadata": {},
   "outputs": [
    {
     "data": {
      "text/plain": [
       "'ATATATA'"
      ]
     },
     "execution_count": 261,
     "metadata": {},
     "output_type": "execute_result"
    }
   ],
   "source": [
    "DNA"
   ]
  },
  {
   "cell_type": "code",
   "execution_count": null,
   "metadata": {
    "collapsed": true
   },
   "outputs": [],
   "source": []
  }
 ],
 "metadata": {
  "kernelspec": {
   "display_name": "Python 3",
   "language": "python",
   "name": "python3"
  },
  "language_info": {
   "codemirror_mode": {
    "name": "ipython",
    "version": 3
   },
   "file_extension": ".py",
   "mimetype": "text/x-python",
   "name": "python",
   "nbconvert_exporter": "python",
   "pygments_lexer": "ipython3",
   "version": "3.6.1"
  },
  "toc": {
   "base_numbering": 1,
   "nav_menu": {},
   "number_sections": false,
   "sideBar": false,
   "skip_h1_title": false,
   "title_cell": "Table of Contents",
   "title_sidebar": "Contents",
   "toc_cell": false,
   "toc_position": {},
   "toc_section_display": false,
   "toc_window_display": false
  }
 },
 "nbformat": 4,
 "nbformat_minor": 2
}
